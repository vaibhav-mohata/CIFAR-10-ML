{
 "cells": [
  {
   "cell_type": "code",
   "execution_count": 8,
   "id": "excited-planet",
   "metadata": {},
   "outputs": [],
   "source": [
    "import _pickle as pickle"
   ]
  },
  {
   "cell_type": "code",
   "execution_count": 9,
   "id": "advisory-freedom",
   "metadata": {},
   "outputs": [],
   "source": [
    "def unpickle(file):\n",
    "    with open(file, 'rb') as fo:\n",
    "        dict = Pickle.load(fo, encoding='bytes')\n",
    "    return dict"
   ]
  },
  {
   "cell_type": "code",
   "execution_count": 28,
   "id": "cutting-manufacturer",
   "metadata": {},
   "outputs": [],
   "source": [
    "dataPart1 = unpickle(\"cifar-10-batches-py/data_batch_1\")\n",
    "dataPart2 = unpickle(\"cifar-10-batches-py/data_batch_2\")\n",
    "dataPart3 = unpickle(\"cifar-10-batches-py/data_batch_3\")\n",
    "dataPart4 = unpickle(\"cifar-10-batches-py/data_batch_4\")\n",
    "dataPart5 = unpickle(\"cifar-10-batches-py/data_batch_5\")\n",
    "dataPartTest = unpickle(\"cifar-10-batches-py/test_batch\")\n",
    "dataPartMeta = unpickle(\"cifar-10-batches-py/batches.meta\")"
   ]
  },
  {
   "cell_type": "code",
   "execution_count": 30,
   "id": "ready-raleigh",
   "metadata": {},
   "outputs": [
    {
     "data": {
      "text/plain": [
       "dict_keys([b'batch_label', b'labels', b'data', b'filenames'])"
      ]
     },
     "execution_count": 30,
     "metadata": {},
     "output_type": "execute_result"
    }
   ],
   "source": [
    "dataPart1.keys()"
   ]
  },
  {
   "cell_type": "code",
   "execution_count": 27,
   "id": "indie-visitor",
   "metadata": {},
   "outputs": [
    {
     "data": {
      "text/plain": [
       "(10000, 3072)"
      ]
     },
     "execution_count": 27,
     "metadata": {},
     "output_type": "execute_result"
    }
   ],
   "source": [
    "def convertDataToDF(dataDict):\n",
    "    \n",
    "    "
   ]
  },
  {
   "cell_type": "code",
   "execution_count": null,
   "id": "raising-gabriel",
   "metadata": {},
   "outputs": [],
   "source": []
  }
 ],
 "metadata": {
  "kernelspec": {
   "display_name": "Python 3",
   "language": "python",
   "name": "python3"
  },
  "language_info": {
   "codemirror_mode": {
    "name": "ipython",
    "version": 3
   },
   "file_extension": ".py",
   "mimetype": "text/x-python",
   "name": "python",
   "nbconvert_exporter": "python",
   "pygments_lexer": "ipython3",
   "version": "3.7.9"
  }
 },
 "nbformat": 4,
 "nbformat_minor": 5
}
