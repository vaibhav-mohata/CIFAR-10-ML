{
 "cells": [
  {
   "cell_type": "code",
   "execution_count": 2,
   "id": "00f840c6",
   "metadata": {},
   "outputs": [],
   "source": [
    "import _pickle as Pickle\n",
    "# import pandas as pd\n",
    "import numpy as np\n",
    "from sklearn.svm import LinearSVC"
   ]
  },
  {
   "cell_type": "code",
   "execution_count": 3,
   "id": "c9d6174b",
   "metadata": {},
   "outputs": [],
   "source": [
    "def unpickle(file):\n",
    "    with open(file, 'rb') as fo:\n",
    "        dict = Pickle.load(fo, encoding='bytes')\n",
    "    return dict"
   ]
  },
  {
   "cell_type": "code",
   "execution_count": 4,
   "id": "9661e499",
   "metadata": {},
   "outputs": [],
   "source": [
    "dataPart1 = unpickle(\"cifar-10-batches-py/data_batch_1\")\n",
    "dataPart2 = unpickle(\"cifar-10-batches-py/data_batch_2\")\n",
    "dataPart3 = unpickle(\"cifar-10-batches-py/data_batch_3\")\n",
    "dataPart4 = unpickle(\"cifar-10-batches-py/data_batch_4\")\n",
    "dataPart5 = unpickle(\"cifar-10-batches-py/data_batch_5\")\n",
    "dataPartTest = unpickle(\"cifar-10-batches-py/test_batch\")\n",
    "dataPartMeta = unpickle(\"cifar-10-batches-py/batches.meta\")"
   ]
  },
  {
   "cell_type": "code",
   "execution_count": 5,
   "id": "1daee654",
   "metadata": {},
   "outputs": [
    {
     "data": {
      "text/plain": [
       "dict_keys([b'batch_label', b'labels', b'data', b'filenames'])"
      ]
     },
     "execution_count": 5,
     "metadata": {},
     "output_type": "execute_result"
    }
   ],
   "source": [
    "dataPart1.keys()"
   ]
  },
  {
   "cell_type": "code",
   "execution_count": 6,
   "id": "4d22d229",
   "metadata": {},
   "outputs": [
    {
     "data": {
      "text/plain": [
       "array([[ 59,  43,  50, ..., 140,  84,  72],\n",
       "       [154, 126, 105, ..., 139, 142, 144],\n",
       "       [255, 253, 253, ...,  83,  83,  84],\n",
       "       ...,\n",
       "       [ 71,  60,  74, ...,  68,  69,  68],\n",
       "       [250, 254, 211, ..., 215, 255, 254],\n",
       "       [ 62,  61,  60, ..., 130, 130, 131]], dtype=uint8)"
      ]
     },
     "execution_count": 6,
     "metadata": {},
     "output_type": "execute_result"
    }
   ],
   "source": [
    "dataPart1[b'data']"
   ]
  },
  {
   "cell_type": "code",
   "execution_count": 7,
   "id": "f61d54f1",
   "metadata": {},
   "outputs": [
    {
     "data": {
      "text/plain": [
       "array([2, 3, 4])"
      ]
     },
     "execution_count": 7,
     "metadata": {},
     "output_type": "execute_result"
    }
   ],
   "source": [
    "row = np.asarray([1, 2,3 ])\n",
    "[1] + row"
   ]
  },
  {
   "cell_type": "code",
   "execution_count": null,
   "id": "8be9ce20",
   "metadata": {},
   "outputs": [],
   "source": []
  },
  {
   "cell_type": "code",
   "execution_count": 8,
   "id": "331fb11a",
   "metadata": {},
   "outputs": [],
   "source": [
    "def convertDataToDF(dataDict):\n",
    "    dataFrame = pd.DataFrame(columns = ['Features / Colors'])\n",
    "    columnLabels = np.asarray(dataDict[b'labels'])\n",
    "    rowNumber = 0\n",
    "    for row in dataPart1[b'data']:\n",
    "        dataFrame.append(row)\n",
    "    return dataframe"
   ]
  },
  {
   "cell_type": "code",
   "execution_count": 9,
   "id": "274c6757",
   "metadata": {},
   "outputs": [],
   "source": [
    "data = np.vstack([dataPart1[b'data'], dataPart2[b'data'], dataPart3[b'data'], dataPart4[b'data'], dataPart5[b'data']])"
   ]
  },
  {
   "cell_type": "code",
   "execution_count": 10,
   "id": "c6b0e08b",
   "metadata": {},
   "outputs": [
    {
     "data": {
      "text/plain": [
       "(50000, 3072)"
      ]
     },
     "execution_count": 10,
     "metadata": {},
     "output_type": "execute_result"
    }
   ],
   "source": [
    "data.shape"
   ]
  },
  {
   "cell_type": "code",
   "execution_count": null,
   "id": "06cd8e70",
   "metadata": {},
   "outputs": [],
   "source": []
  },
  {
   "cell_type": "code",
   "execution_count": 11,
   "id": "2339355a",
   "metadata": {},
   "outputs": [],
   "source": [
    "labels = np.hstack([dataPart1[b'labels'], dataPart2[b'labels'], dataPart3[b'labels'], dataPart4[b'labels'], dataPart5[b'labels']])\n",
    "\n",
    "\n",
    "\n",
    "\n"
   ]
  },
  {
   "cell_type": "code",
   "execution_count": 12,
   "id": "6c650fcf",
   "metadata": {},
   "outputs": [
    {
     "data": {
      "text/plain": [
       "(50000,)"
      ]
     },
     "execution_count": 12,
     "metadata": {},
     "output_type": "execute_result"
    }
   ],
   "source": [
    "labels.shape"
   ]
  },
  {
   "cell_type": "code",
   "execution_count": 13,
   "id": "526eeb5b",
   "metadata": {},
   "outputs": [],
   "source": [
    "import tensorflow as tf\n",
    "from tensorflow import keras\n",
    "from tensorflow.keras import layers"
   ]
  },
  {
   "cell_type": "code",
   "execution_count": 31,
   "id": "c6ca9565",
   "metadata": {},
   "outputs": [],
   "source": [
    "def makeModel(numberOfHiddedNodes = 3072):\n",
    "    model = keras.Sequential(\n",
    "    [\n",
    "        layers.Dense(3072, activation=\"sigmoid\", name=\"layer1\"),\n",
    "        layers.Dense(3072, activation=\"sigmoid\", name=\"layer2\"),\n",
    "        layers.Dense(1000, activation=\"sigmoid\", name=\"layer3\"),\n",
    "        layers.Dense(10, activation=\"sigmoid\", name=\"layer4\"),\n",
    "    ])\n",
    "    return model"
   ]
  },
  {
   "cell_type": "code",
   "execution_count": 46,
   "id": "352898d5",
   "metadata": {},
   "outputs": [],
   "source": [
    "model = makeModel()\n",
    "losse = tf.keras.losses.CategoricalCrossentropy()\n",
    "model.compile(optimizer = \"adam\", loss=losse, metrics = [tf.keras.metrics.Accuracy()])"
   ]
  },
  {
   "cell_type": "code",
   "execution_count": 47,
   "id": "0202b85e",
   "metadata": {},
   "outputs": [],
   "source": [
    "def convertLabelsToArray(labels):\n",
    "    newLabel = []\n",
    "    for label in labels:\n",
    "        newList = [0] *10\n",
    "        newList[label-1] = 1\n",
    "        newLabel.append(newList)\n",
    "    return np.array(newLabel)"
   ]
  },
  {
   "cell_type": "code",
   "execution_count": 48,
   "id": "01cc1d41",
   "metadata": {},
   "outputs": [
    {
     "data": {
      "text/plain": [
       "(50000, 10)"
      ]
     },
     "execution_count": 48,
     "metadata": {},
     "output_type": "execute_result"
    }
   ],
   "source": [
    "labelsArray = convertLabelsToArray(labels)\n",
    "labelsArray.shape"
   ]
  },
  {
   "cell_type": "code",
   "execution_count": 49,
   "id": "1c79de61",
   "metadata": {},
   "outputs": [
    {
     "name": "stdout",
     "output_type": "stream",
     "text": [
      "1563/1563 [==============================] - 104s 66ms/step - loss: 2.4477 - accuracy: 0.0000e+00\n"
     ]
    },
    {
     "data": {
      "text/plain": [
       "<tensorflow.python.keras.callbacks.History at 0x7fb6628bae10>"
      ]
     },
     "execution_count": 49,
     "metadata": {},
     "output_type": "execute_result"
    }
   ],
   "source": [
    "model.fit(data, labelsArray)"
   ]
  },
  {
   "cell_type": "code",
   "execution_count": 55,
   "id": "f690ac15",
   "metadata": {},
   "outputs": [],
   "source": [
    "predictions = model.predict(x=dataPartTest[b'data'])"
   ]
  },
  {
   "cell_type": "code",
   "execution_count": 56,
   "id": "aa768c2e",
   "metadata": {},
   "outputs": [
    {
     "data": {
      "text/plain": [
       "array([[0.39108965, 0.37001425, 0.54124504, 0.6313185 , 0.24184957,\n",
       "        0.51834965, 0.43425635, 0.43602273, 0.34751314, 0.51899254],\n",
       "       [0.39109284, 0.37001044, 0.5412377 , 0.6313142 , 0.24184379,\n",
       "        0.5183456 , 0.4342535 , 0.43603235, 0.34752616, 0.5189989 ],\n",
       "       [0.39109284, 0.37001044, 0.5412377 , 0.6313142 , 0.24184379,\n",
       "        0.5183456 , 0.4342535 , 0.43603235, 0.34752616, 0.5189989 ],\n",
       "       [0.39109284, 0.37001044, 0.5412377 , 0.6313142 , 0.24184379,\n",
       "        0.5183456 , 0.4342535 , 0.43603235, 0.34752616, 0.5189989 ]],\n",
       "      dtype=float32)"
      ]
     },
     "execution_count": 56,
     "metadata": {},
     "output_type": "execute_result"
    }
   ],
   "source": [
    "predictions[0:4]\n",
    "# sum(predictions[7])"
   ]
  },
  {
   "cell_type": "code",
   "execution_count": 20,
   "id": "3593bb5c",
   "metadata": {},
   "outputs": [
    {
     "name": "stderr",
     "output_type": "stream",
     "text": [
      "/Users/vaibhavmohata/opt/anaconda3/lib/python3.8/site-packages/sklearn/svm/_base.py:976: ConvergenceWarning: Liblinear failed to converge, increase the number of iterations.\n",
      "  warnings.warn(\"Liblinear failed to converge, increase \"\n"
     ]
    },
    {
     "data": {
      "text/plain": [
       "LinearSVC(max_iter=5000, random_state=0)"
      ]
     },
     "execution_count": 20,
     "metadata": {},
     "output_type": "execute_result"
    }
   ],
   "source": [
    "model1 = LinearSVC(random_state=0, max_iter=5000)\n",
    "model1.fit(data, labels)\n",
    "# training_predictions = model.predict(mnist_train_sample)"
   ]
  },
  {
   "cell_type": "code",
   "execution_count": 22,
   "id": "e4e1dcbd",
   "metadata": {},
   "outputs": [
    {
     "data": {
      "text/plain": [
       "0.2391"
      ]
     },
     "execution_count": 22,
     "metadata": {},
     "output_type": "execute_result"
    }
   ],
   "source": [
    "from sklearn.metrics import accuracy_score\n",
    "predictedLabels = model1.predict(dataPartTest[b'data'])\n",
    "accuracy_score(predictedLabels, dataPartTest[b'labels'])"
   ]
  },
  {
   "cell_type": "code",
   "execution_count": null,
   "id": "fdd1ae79",
   "metadata": {},
   "outputs": [],
   "source": [
    "from keras.layers import Dense\n",
    "model = Sequential()\n",
    "model.add()"
   ]
  }
 ],
 "metadata": {
  "kernelspec": {
   "display_name": "Python 3",
   "language": "python",
   "name": "python3"
  },
  "language_info": {
   "codemirror_mode": {
    "name": "ipython",
    "version": 3
   },
   "file_extension": ".py",
   "mimetype": "text/x-python",
   "name": "python",
   "nbconvert_exporter": "python",
   "pygments_lexer": "ipython3",
   "version": "3.6.12"
  }
 },
 "nbformat": 4,
 "nbformat_minor": 5
}
